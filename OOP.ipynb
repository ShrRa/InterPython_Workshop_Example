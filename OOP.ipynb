{
 "cells": [
  {
   "cell_type": "markdown",
   "id": "1ae86be6-216a-427a-a0af-8608321725b2",
   "metadata": {},
   "source": [
    "### Imports"
   ]
  },
  {
   "cell_type": "code",
   "execution_count": 4,
   "id": "0aa8568b-24b6-4a32-bbff-3cb71f151f28",
   "metadata": {},
   "outputs": [],
   "source": [
    "import os\n",
    "\n",
    "import numpy as np\n",
    "import pandas as pd"
   ]
  },
  {
   "cell_type": "markdown",
   "id": "afa8e189-710d-46c0-8be1-24ef6a04a96e",
   "metadata": {},
   "source": [
    "### Load data"
   ]
  },
  {
   "cell_type": "code",
   "execution_count": 5,
   "id": "e11aea7b-0f61-4f45-885e-641bc8a3ef3c",
   "metadata": {},
   "outputs": [],
   "source": [
    "lc_datasets = {}\n",
    "lc_datasets[\"lsst\"] = pd.read_pickle(\"data/lsst_RRLyr.pkl\")\n",
    "lc_datasets[\"kepler\"] = pd.read_csv(\"data/kepler_RRLyr.csv\")"
   ]
  },
  {
   "cell_type": "markdown",
   "id": "5ff31ddc-9a4e-4880-8115-33b588a94f81",
   "metadata": {},
   "source": [
    "### Params"
   ]
  },
  {
   "cell_type": "code",
   "execution_count": 7,
   "id": "4258a7ab-55ee-40a4-8b97-608ad22df1c1",
   "metadata": {},
   "outputs": [],
   "source": [
    "bands = \"ugrizy\"\n",
    "mag_col = \"psfMag\"\n",
    "time_col = \"expMidptMJD\""
   ]
  },
  {
   "cell_type": "markdown",
   "id": "1f909052-1bed-4763-b3f8-f83b347b54c1",
   "metadata": {},
   "source": [
    "### Class definitions"
   ]
  },
  {
   "cell_type": "code",
   "execution_count": 163,
   "id": "43ee7a6d-104f-466d-9c4e-46d1b8322685",
   "metadata": {},
   "outputs": [],
   "source": [
    "class Variable:\n",
    "    \"\"\"A Variable class\"\"\"\n",
    "\n",
    "    def __init__(self, obj_id):\n",
    "        self.obj_id = obj_id\n",
    "        self.lc = {\"mjd\": np.array([]), \"mag\": np.array([])}\n",
    "\n",
    "    def add_observations(self, mjds, mags, mag_errs=None):\n",
    "        \"\"\"\n",
    "        Adds observations to the light curve.\n",
    "\n",
    "        Args:\n",
    "          mjds: A vector of Modified Julian Dates (x values).\n",
    "          mags: A vector of luminosities (y values).\n",
    "          mag_errs: A vector of magnitude errors.\n",
    "        \"\"\"\n",
    "        self.lc[\"mjd\"] = self.convert_to_array(mjds)\n",
    "        self.lc[\"mag\"] = self.convert_to_array(mags)\n",
    "        if mag_errs is not None:\n",
    "            self.lc[\"mag_errs\"] = self.convert_to_array(mag_errs)\n",
    "        self.compare_len(self.lc.values())\n",
    "        return        \n",
    "\n",
    "    def convert_to_array(self,data):\n",
    "        if not isinstance(data, np.ndarray):\n",
    "            if isinstance(data, (list,tuple,pd.Series)):\n",
    "                data = np.array(data)\n",
    "            elif isinstance(data, (int, float)):\n",
    "                data = np.array([data])\n",
    "            else:\n",
    "                raise ValueError(\"The data type of the input is incorrect!\")\n",
    "        return data\n",
    "\n",
    "    def compare_len(self,arrs):\n",
    "        lens = [len(arr) for arr in arrs]\n",
    "        if len(set(lens)) > 1:\n",
    "            raise ValueError(\"Passed timestamps and mags or mag_errs arrays have different lengths!\")\n",
    "        return\n",
    "\n",
    "    @property\n",
    "    def mean_mag(self):\n",
    "        return np.mean(self.lc['mag'])\n",
    "\n",
    "    def __str__(self):\n",
    "        return str(self.obj_id)\n",
    "\n",
    "    def __len__(self):\n",
    "        return len(self.lc[\"mjd\"])"
   ]
  },
  {
   "cell_type": "markdown",
   "id": "4101d5be-66d1-4a9d-9964-34dc120c2422",
   "metadata": {},
   "source": [
    "### Using the class"
   ]
  },
  {
   "cell_type": "code",
   "execution_count": 164,
   "id": "3c087405-bd17-4335-885f-a7a155fa7dc0",
   "metadata": {},
   "outputs": [],
   "source": [
    "obj_id = lc_datasets[\"lsst\"][\"objectId\"].unique()[7]"
   ]
  },
  {
   "cell_type": "code",
   "execution_count": 165,
   "id": "ff618e4c-66ce-4218-80e6-8a0fd8f59ee3",
   "metadata": {},
   "outputs": [],
   "source": [
    "b = \"g\""
   ]
  },
  {
   "cell_type": "code",
   "execution_count": 166,
   "id": "17f6ad50-4e23-40f6-a08a-b8d17093536e",
   "metadata": {},
   "outputs": [],
   "source": [
    "filt_band_obj = (lc_datasets[\"lsst\"][\"objectId\"] == obj_id) & (\n",
    "    lc_datasets[\"lsst\"][\"band\"] == b\n",
    ")"
   ]
  },
  {
   "cell_type": "code",
   "execution_count": 167,
   "id": "b53d61aa-1564-46d2-9384-4f9df6de40eb",
   "metadata": {},
   "outputs": [],
   "source": [
    "obj_obs = lc_datasets[\"lsst\"][filt_band_obj]"
   ]
  },
  {
   "cell_type": "code",
   "execution_count": 168,
   "id": "b24b21d0-e108-4f7e-8c15-653680ae4837",
   "metadata": {},
   "outputs": [],
   "source": [
    "star = Variable(obj_id)"
   ]
  },
  {
   "cell_type": "code",
   "execution_count": 169,
   "id": "6554b0db-fcd0-41b6-b11d-e56a9a2f22e2",
   "metadata": {},
   "outputs": [
    {
     "name": "stdout",
     "output_type": "stream",
     "text": [
      "1405624461041897445\n"
     ]
    }
   ],
   "source": [
    "print(star.obj_id)"
   ]
  },
  {
   "cell_type": "code",
   "execution_count": 170,
   "id": "866c6146-640b-4d83-b664-b653838d657b",
   "metadata": {},
   "outputs": [],
   "source": [
    "star.add_observations(obj_obs[time_col], obj_obs[mag_col])"
   ]
  },
  {
   "cell_type": "code",
   "execution_count": 171,
   "id": "d29c57ea-4226-4c41-bf28-51ff74d163a2",
   "metadata": {},
   "outputs": [
    {
     "name": "stdout",
     "output_type": "stream",
     "text": [
      "1405624461041897445\n",
      "{'mjd': array([60559.2973682, 59791.3473572, 60559.2978172, 61017.0665232,\n",
      "       60281.1630512, 59840.2103322, 60560.2654012, 61298.2853162,\n",
      "       60610.1669992, 60881.3838612, 61269.3333562, 59841.2948172,\n",
      "       59840.2107802, 60555.2837972, 60880.4114602, 61109.0454832,\n",
      "       59841.3286042, 60962.2788762, 60260.1801602, 60145.4057402,\n",
      "       60610.1014732, 60962.2669892, 61329.2779102, 60588.1944462,\n",
      "       61329.2769632, 59791.3582372, 59840.2367152, 60993.0741872,\n",
      "       60880.3849662, 60993.0622822, 59958.1258722, 61109.0305462,\n",
      "       60286.0827232, 60962.2656102, 60962.1967542, 60962.1836422,\n",
      "       59840.2284672, 60610.1253832, 60588.2046822, 61356.1581872,\n",
      "       60610.1010252, 60962.3061112, 61084.1131352, 60530.3755112]), 'mag': array([17.0270149 , 17.9296522 , 17.02132289, 17.35962392, 17.64018619,\n",
      "       18.37622276, 17.42335279, 18.38669221, 18.38521324, 18.38482772,\n",
      "       18.38450526, 17.25162572, 18.37937516, 17.88716136, 18.25681606,\n",
      "       18.2554663 , 17.55746683, 18.35766259, 18.3059005 , 18.32610979,\n",
      "       18.39321037, 18.34992003, 17.54769736, 17.62174291, 17.54224865,\n",
      "       17.98639193, 18.35965367, 18.42444871, 18.14996456, 18.39800571,\n",
      "       18.36946863, 18.19869743, 18.36475293, 18.35016222, 18.38033414,\n",
      "       18.37293812, 18.35890407, 18.37379318, 17.2526037 , 18.36709694,\n",
      "       18.39023618, 18.40066128, 17.53591974, 17.01428644])}\n"
     ]
    }
   ],
   "source": [
    "print(star)\n",
    "print(star.lc)"
   ]
  },
  {
   "cell_type": "code",
   "execution_count": 172,
   "id": "058d4ae8-859d-464a-8ff3-a1e56e01ec4b",
   "metadata": {},
   "outputs": [
    {
     "data": {
      "text/plain": [
       "44"
      ]
     },
     "execution_count": 172,
     "metadata": {},
     "output_type": "execute_result"
    }
   ],
   "source": [
    "len(star)"
   ]
  },
  {
   "cell_type": "code",
   "execution_count": 173,
   "id": "17ca199c-9163-46f5-b441-1e4e272988d2",
   "metadata": {},
   "outputs": [
    {
     "data": {
      "text/plain": [
       "18.03180312045771"
      ]
     },
     "execution_count": 173,
     "metadata": {},
     "output_type": "execute_result"
    }
   ],
   "source": [
    "star.mean_mag"
   ]
  },
  {
   "cell_type": "markdown",
   "id": "c4380259-89a4-47ec-8836-7408a41591a1",
   "metadata": {},
   "source": [
    "### Composition"
   ]
  },
  {
   "cell_type": "code",
   "execution_count": 185,
   "id": "f6e3cd9c-6118-4e43-b277-e6b12209cd6b",
   "metadata": {},
   "outputs": [],
   "source": [
    "class Lightcurve:\n",
    "    \"\"\"Class Lightcurve\"\"\"\n",
    "    def __init__(self, mjds=None, mags=None, mag_errs = None):\n",
    "        self.lc = {}\n",
    "        if mjds is not None:\n",
    "            self.lc = self.add_observations(mjds, mags, mag_errs)\n",
    "\n",
    "    def add_observations(self, mjds, mags, mag_errs = None):\n",
    "        self.lc[\"mjds\"] = self.convert_to_array(mjds)\n",
    "        self.lc[\"mags\"] = self.convert_to_array(mags)\n",
    "        if mag_errs is not None:\n",
    "            self.lc[\"mag_errs\"] = self.convert_to_array(mag_errs)\n",
    "        self.compare_len(self.lc.values())\n",
    "        return self.lc\n",
    "    \n",
    "    def convert_to_array(self,data):\n",
    "        if not isinstance(data, np.ndarray):\n",
    "            if isinstance(data, (list,tuple,pd.Series)):\n",
    "                data = np.array(data)\n",
    "            elif isinstance(data, (int, float)):\n",
    "                data = np.array([data])\n",
    "            else:\n",
    "                raise ValueError(\"The data type of the input is incorrect!\")\n",
    "        return data\n",
    "    \n",
    "    def compare_len(self,arrs):\n",
    "        lens = [len(arr) for arr in arrs]\n",
    "        if len(set(lens)) > 1:\n",
    "            raise ValueError(\"Passed timestamps and mags or mag_errs arrays have different lengths!\")\n",
    "        return\n",
    "    \n",
    "    @property\n",
    "    def mean_mag(self):\n",
    "        return np.mean(self.lc['mags'])\n",
    "    \n",
    "    def __len__(self):\n",
    "        return len(self.lc[\"mjds\"])"
   ]
  },
  {
   "cell_type": "code",
   "execution_count": 186,
   "id": "623cadf9-03d2-4cc6-b7a2-e7b142a2ee1e",
   "metadata": {},
   "outputs": [],
   "source": [
    "class Variable:\n",
    "    \"\"\"A Variable class\"\"\"\n",
    "\n",
    "    def __init__(self, obj_id):\n",
    "        self.obj_id = obj_id\n",
    "        self.mband_lc = {}\n",
    "    \n",
    "    def add_lc(self,band,mjds,mags,mag_errs=None):\n",
    "        self.mband_lc[band] = Lightcurve(mjds,mags,mag_errs)\n",
    "        return self.mband_lc\n",
    "        \n",
    "    def __str__(self):\n",
    "        return str(self.obj_id)"
   ]
  },
  {
   "cell_type": "code",
   "execution_count": 196,
   "id": "7488ac0c-587b-48ed-8840-aae6bc20c13f",
   "metadata": {},
   "outputs": [
    {
     "name": "stdout",
     "output_type": "stream",
     "text": [
      "18.03180312045771\n"
     ]
    }
   ],
   "source": [
    "star2 = Variable(obj_id)\n",
    "star2.add_lc(band = b,mjds = obj_obs[time_col], mags = obj_obs[mag_col])\n",
    "print(star2.mband_lc['g'].mean_mag)"
   ]
  },
  {
   "cell_type": "markdown",
   "id": "7956fbae-22be-473d-a116-131aac1dd9cd",
   "metadata": {},
   "source": [
    "### Inheritance"
   ]
  },
  {
   "cell_type": "code",
   "execution_count": 197,
   "id": "308dc0d7-0c9c-419f-bdba-3cca29e98b0c",
   "metadata": {},
   "outputs": [],
   "source": [
    "class Variable:\n",
    "    \"\"\"A Variable class\"\"\"\n",
    "\n",
    "    def __init__(self, obj_id):\n",
    "        self.obj_id = obj_id\n",
    "        self.mband_lc = {}\n",
    "    \n",
    "    def add_lc(self,band,mjds,mags,mag_errs=None):\n",
    "        self.mband_lc[band] = Lightcurve(mjds,mags,mag_errs)\n",
    "        return self.mband_lc\n",
    "        \n",
    "    def __str__(self):\n",
    "        return str(self.obj_id)"
   ]
  },
  {
   "cell_type": "code",
   "execution_count": 203,
   "id": "bafacdb9-b059-4e0c-9563-6e77465ece1e",
   "metadata": {},
   "outputs": [],
   "source": [
    "class RRLyrae(Variable):\n",
    "    \"\"\"A class for RR Lyrae stars.\"\"\"\n",
    "    def __init__(self, obj_id):\n",
    "        super().__init__(obj_id)\n",
    "        self.period = None\n",
    "\n",
    "    def period_determination(self, period_range=(0.1,3)):\n",
    "        \"\"\"A function to determine the period\"\"\"\n",
    "        self.period = 0.3\n",
    "        return"
   ]
  },
  {
   "cell_type": "code",
   "execution_count": 204,
   "id": "39c920c9-cf44-4bce-8c36-6e8840e856b3",
   "metadata": {},
   "outputs": [],
   "source": [
    "rr_lyrae = RRLyrae(obj_id)"
   ]
  },
  {
   "cell_type": "code",
   "execution_count": 210,
   "id": "446385f9-f524-4075-93eb-3265a85ee0b9",
   "metadata": {},
   "outputs": [
    {
     "name": "stdout",
     "output_type": "stream",
     "text": [
      "{}\n",
      "0.3\n"
     ]
    }
   ],
   "source": [
    "print(rr_lyrae.mband_lc)\n",
    "print(rr_lyrae.period)"
   ]
  },
  {
   "cell_type": "code",
   "execution_count": 207,
   "id": "32e0a70f-1e47-4aca-b91f-55acaa06c7ec",
   "metadata": {},
   "outputs": [],
   "source": [
    "rr_lyrae.period_determination()"
   ]
  },
  {
   "cell_type": "code",
   "execution_count": 208,
   "id": "d6f74212-3651-47e0-ace8-ac0762a7514b",
   "metadata": {},
   "outputs": [
    {
     "data": {
      "text/plain": [
       "0.3"
      ]
     },
     "execution_count": 208,
     "metadata": {},
     "output_type": "execute_result"
    }
   ],
   "source": [
    "rr_lyrae.period"
   ]
  },
  {
   "cell_type": "code",
   "execution_count": null,
   "id": "92eee9e5-c212-4a19-b57e-a006e1304321",
   "metadata": {},
   "outputs": [],
   "source": []
  }
 ],
 "metadata": {
  "kernelspec": {
   "display_name": "Python 3 (ipykernel)",
   "language": "python",
   "name": "python3"
  },
  "language_info": {
   "codemirror_mode": {
    "name": "ipython",
    "version": 3
   },
   "file_extension": ".py",
   "mimetype": "text/x-python",
   "name": "python",
   "nbconvert_exporter": "python",
   "pygments_lexer": "ipython3",
   "version": "3.11.5"
  }
 },
 "nbformat": 4,
 "nbformat_minor": 5
}
