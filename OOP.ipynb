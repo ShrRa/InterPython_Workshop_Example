{
 "cells": [
  {
   "cell_type": "markdown",
   "id": "1ae86be6-216a-427a-a0af-8608321725b2",
   "metadata": {},
   "source": [
    "### Imports"
   ]
  },
  {
   "cell_type": "code",
   "execution_count": 3,
   "id": "0aa8568b-24b6-4a32-bbff-3cb71f151f28",
   "metadata": {},
   "outputs": [],
   "source": [
    "import os\n",
    "\n",
    "import numpy as np\n",
    "import pandas as pd"
   ]
  },
  {
   "cell_type": "markdown",
   "id": "afa8e189-710d-46c0-8be1-24ef6a04a96e",
   "metadata": {},
   "source": [
    "### Load data"
   ]
  },
  {
   "cell_type": "code",
   "execution_count": 4,
   "id": "e11aea7b-0f61-4f45-885e-641bc8a3ef3c",
   "metadata": {},
   "outputs": [],
   "source": [
    "lc_datasets = {}\n",
    "lc_datasets[\"lsst\"] = pd.read_pickle(\"data/lsst_RRLyr.pkl\")\n",
    "lc_datasets[\"kepler\"] = pd.read_csv(\"data/kepler_RRLyr.csv\")"
   ]
  },
  {
   "cell_type": "markdown",
   "id": "5ff31ddc-9a4e-4880-8115-33b588a94f81",
   "metadata": {},
   "source": [
    "### Params"
   ]
  },
  {
   "cell_type": "code",
   "execution_count": 5,
   "id": "4258a7ab-55ee-40a4-8b97-608ad22df1c1",
   "metadata": {},
   "outputs": [],
   "source": [
    "bands = \"ugrizy\"\n",
    "mag_col = \"psfMag\"\n",
    "time_col = \"expMidptMJD\""
   ]
  },
  {
   "cell_type": "markdown",
   "id": "1f909052-1bed-4763-b3f8-f83b347b54c1",
   "metadata": {},
   "source": [
    "### Class definitions"
   ]
  },
  {
   "cell_type": "code",
   "execution_count": 163,
   "id": "43ee7a6d-104f-466d-9c4e-46d1b8322685",
   "metadata": {},
   "outputs": [],
   "source": [
    "class Variable:\n",
    "    \"\"\"A Variable class\"\"\"\n",
    "\n",
    "    def __init__(self, obj_id):\n",
    "        self.obj_id = obj_id\n",
    "        self.lc = {\"mjd\": np.array([]), \"mag\": np.array([])}\n",
    "\n",
    "    def add_observations(self, mjds, mags, mag_errs=None):\n",
    "        \"\"\"\n",
    "        Adds observations to the light curve.\n",
    "\n",
    "        Args:\n",
    "          mjds: A vector of Modified Julian Dates (x values).\n",
    "          mags: A vector of luminosities (y values).\n",
    "          mag_errs: A vector of magnitude errors.\n",
    "        \"\"\"\n",
    "        self.lc[\"mjd\"] = self.convert_to_array(mjds)\n",
    "        self.lc[\"mag\"] = self.convert_to_array(mags)\n",
    "        if mag_errs is not None:\n",
    "            self.lc[\"mag_errs\"] = self.convert_to_array(mag_errs)\n",
    "        self.compare_len(self.lc.values())\n",
    "        return\n",
    "\n",
    "    def convert_to_array(self, data):\n",
    "        if not isinstance(data, np.ndarray):\n",
    "            if isinstance(data, (list, tuple, pd.Series)):\n",
    "                data = np.array(data)\n",
    "            elif isinstance(data, (int, float)):\n",
    "                data = np.array([data])\n",
    "            else:\n",
    "                raise ValueError(\"The data type of the input is incorrect!\")\n",
    "        return data\n",
    "\n",
    "    def compare_len(self, arrs):\n",
    "        lens = [len(arr) for arr in arrs]\n",
    "        if len(set(lens)) > 1:\n",
    "            raise ValueError(\n",
    "                \"Passed timestamps and mags or mag_errs arrays have different lengths!\"\n",
    "            )\n",
    "        return\n",
    "\n",
    "    @property\n",
    "    def mean_mag(self):\n",
    "        return np.mean(self.lc[\"mag\"])\n",
    "\n",
    "    def __str__(self):\n",
    "        return str(self.obj_id)\n",
    "\n",
    "    def __len__(self):\n",
    "        return len(self.lc[\"mjd\"])"
   ]
  },
  {
   "cell_type": "markdown",
   "id": "4101d5be-66d1-4a9d-9964-34dc120c2422",
   "metadata": {},
   "source": [
    "### Using the class"
   ]
  },
  {
   "cell_type": "code",
   "execution_count": 164,
   "id": "3c087405-bd17-4335-885f-a7a155fa7dc0",
   "metadata": {},
   "outputs": [],
   "source": [
    "obj_id = lc_datasets[\"lsst\"][\"objectId\"].unique()[7]"
   ]
  },
  {
   "cell_type": "code",
   "execution_count": 165,
   "id": "ff618e4c-66ce-4218-80e6-8a0fd8f59ee3",
   "metadata": {},
   "outputs": [],
   "source": [
    "b = \"g\""
   ]
  },
  {
   "cell_type": "code",
   "execution_count": 166,
   "id": "17f6ad50-4e23-40f6-a08a-b8d17093536e",
   "metadata": {},
   "outputs": [],
   "source": [
    "filt_band_obj = (lc_datasets[\"lsst\"][\"objectId\"] == obj_id) & (\n",
    "    lc_datasets[\"lsst\"][\"band\"] == b\n",
    ")"
   ]
  },
  {
   "cell_type": "code",
   "execution_count": 167,
   "id": "b53d61aa-1564-46d2-9384-4f9df6de40eb",
   "metadata": {},
   "outputs": [],
   "source": [
    "obj_obs = lc_datasets[\"lsst\"][filt_band_obj]"
   ]
  },
  {
   "cell_type": "code",
   "execution_count": 168,
   "id": "b24b21d0-e108-4f7e-8c15-653680ae4837",
   "metadata": {},
   "outputs": [],
   "source": [
    "star = Variable(obj_id)"
   ]
  },
  {
   "cell_type": "code",
   "execution_count": 169,
   "id": "6554b0db-fcd0-41b6-b11d-e56a9a2f22e2",
   "metadata": {},
   "outputs": [
    {
     "name": "stdout",
     "output_type": "stream",
     "text": [
      "1405624461041897445\n"
     ]
    }
   ],
   "source": [
    "print(star.obj_id)"
   ]
  },
  {
   "cell_type": "code",
   "execution_count": 170,
   "id": "866c6146-640b-4d83-b664-b653838d657b",
   "metadata": {},
   "outputs": [],
   "source": [
    "star.add_observations(obj_obs[time_col], obj_obs[mag_col])"
   ]
  },
  {
   "cell_type": "code",
   "execution_count": 171,
   "id": "d29c57ea-4226-4c41-bf28-51ff74d163a2",
   "metadata": {},
   "outputs": [
    {
     "name": "stdout",
     "output_type": "stream",
     "text": [
      "1405624461041897445\n",
      "{'mjd': array([60559.2973682, 59791.3473572, 60559.2978172, 61017.0665232,\n",
      "       60281.1630512, 59840.2103322, 60560.2654012, 61298.2853162,\n",
      "       60610.1669992, 60881.3838612, 61269.3333562, 59841.2948172,\n",
      "       59840.2107802, 60555.2837972, 60880.4114602, 61109.0454832,\n",
      "       59841.3286042, 60962.2788762, 60260.1801602, 60145.4057402,\n",
      "       60610.1014732, 60962.2669892, 61329.2779102, 60588.1944462,\n",
      "       61329.2769632, 59791.3582372, 59840.2367152, 60993.0741872,\n",
      "       60880.3849662, 60993.0622822, 59958.1258722, 61109.0305462,\n",
      "       60286.0827232, 60962.2656102, 60962.1967542, 60962.1836422,\n",
      "       59840.2284672, 60610.1253832, 60588.2046822, 61356.1581872,\n",
      "       60610.1010252, 60962.3061112, 61084.1131352, 60530.3755112]), 'mag': array([17.0270149 , 17.9296522 , 17.02132289, 17.35962392, 17.64018619,\n",
      "       18.37622276, 17.42335279, 18.38669221, 18.38521324, 18.38482772,\n",
      "       18.38450526, 17.25162572, 18.37937516, 17.88716136, 18.25681606,\n",
      "       18.2554663 , 17.55746683, 18.35766259, 18.3059005 , 18.32610979,\n",
      "       18.39321037, 18.34992003, 17.54769736, 17.62174291, 17.54224865,\n",
      "       17.98639193, 18.35965367, 18.42444871, 18.14996456, 18.39800571,\n",
      "       18.36946863, 18.19869743, 18.36475293, 18.35016222, 18.38033414,\n",
      "       18.37293812, 18.35890407, 18.37379318, 17.2526037 , 18.36709694,\n",
      "       18.39023618, 18.40066128, 17.53591974, 17.01428644])}\n"
     ]
    }
   ],
   "source": [
    "print(star)\n",
    "print(star.lc)"
   ]
  },
  {
   "cell_type": "code",
   "execution_count": 172,
   "id": "058d4ae8-859d-464a-8ff3-a1e56e01ec4b",
   "metadata": {},
   "outputs": [
    {
     "data": {
      "text/plain": [
       "44"
      ]
     },
     "execution_count": 172,
     "metadata": {},
     "output_type": "execute_result"
    }
   ],
   "source": [
    "len(star)"
   ]
  },
  {
   "cell_type": "code",
   "execution_count": 173,
   "id": "17ca199c-9163-46f5-b441-1e4e272988d2",
   "metadata": {},
   "outputs": [
    {
     "data": {
      "text/plain": [
       "18.03180312045771"
      ]
     },
     "execution_count": 173,
     "metadata": {},
     "output_type": "execute_result"
    }
   ],
   "source": [
    "star.mean_mag"
   ]
  },
  {
   "cell_type": "markdown",
   "id": "c4380259-89a4-47ec-8836-7408a41591a1",
   "metadata": {},
   "source": [
    "### Composition"
   ]
  },
  {
   "cell_type": "code",
   "execution_count": 29,
   "id": "f6e3cd9c-6118-4e43-b277-e6b12209cd6b",
   "metadata": {},
   "outputs": [],
   "source": [
    "class Lightcurve:\n",
    "    \"\"\"Class Lightcurve\"\"\"\n",
    "\n",
    "    def __init__(self, mjds=None, mags=None, mag_errs=None):\n",
    "        self.lc = {}\n",
    "        if mjds is not None:\n",
    "            self.add_observations(mjds, mags, mag_errs)\n",
    "\n",
    "    def add_observations(self, mjds, mags, mag_errs=None):\n",
    "        self.lc[\"mjds\"] = self.convert_to_array(mjds)\n",
    "        self.lc[\"mags\"] = self.convert_to_array(mags)\n",
    "        if mag_errs is not None:\n",
    "            self.lc[\"mag_errs\"] = self.convert_to_array(mag_errs)\n",
    "        self.compare_len(self.lc.values())\n",
    "        return self.lc\n",
    "\n",
    "    def convert_to_array(self, data):\n",
    "        if not isinstance(data, np.ndarray):\n",
    "            if isinstance(data, (list, tuple, pd.Series)):\n",
    "                data = np.array(data)\n",
    "            elif isinstance(data, (int, float)):\n",
    "                data = np.array([data])\n",
    "            else:\n",
    "                raise ValueError(\"The data type of the input is incorrect!\")\n",
    "        return data\n",
    "\n",
    "    def compare_len(self, arrs):\n",
    "        lens = [len(arr) for arr in arrs]\n",
    "        if len(set(lens)) > 1:\n",
    "            raise ValueError(\n",
    "                \"Passed timestamps and mags or mag_errs arrays have different lengths!\"\n",
    "            )\n",
    "        return\n",
    "\n",
    "    @property\n",
    "    def mean_mag(self):\n",
    "        return np.mean(self.lc[\"mags\"])\n",
    "\n",
    "    def __len__(self):\n",
    "        return len(self.lc[\"mjds\"])"
   ]
  },
  {
   "cell_type": "code",
   "execution_count": 30,
   "id": "623cadf9-03d2-4cc6-b7a2-e7b142a2ee1e",
   "metadata": {},
   "outputs": [],
   "source": [
    "class Variable:\n",
    "    \"\"\"A Variable class\"\"\"\n",
    "\n",
    "    def __init__(self, obj_id):\n",
    "        self.obj_id = obj_id\n",
    "        self.mband_lc = {}\n",
    "\n",
    "    def add_lc(self, band, mjds, mags, mag_errs=None):\n",
    "        self.mband_lc[band] = Lightcurve(mjds, mags, mag_errs)\n",
    "        return self.mband_lc\n",
    "\n",
    "    def __str__(self):\n",
    "        return str(self.obj_id)"
   ]
  },
  {
   "cell_type": "code",
   "execution_count": 31,
   "id": "7488ac0c-587b-48ed-8840-aae6bc20c13f",
   "metadata": {},
   "outputs": [
    {
     "ename": "NameError",
     "evalue": "name 'obj_id' is not defined",
     "output_type": "error",
     "traceback": [
      "\u001b[0;31m---------------------------------------------------------------------------\u001b[0m",
      "\u001b[0;31mNameError\u001b[0m                                 Traceback (most recent call last)",
      "Cell \u001b[0;32mIn[31], line 1\u001b[0m\n\u001b[0;32m----> 1\u001b[0m star2 \u001b[38;5;241m=\u001b[39m Variable(\u001b[43mobj_id\u001b[49m)\n\u001b[1;32m      2\u001b[0m star2\u001b[38;5;241m.\u001b[39madd_lc(band\u001b[38;5;241m=\u001b[39mb, mjds\u001b[38;5;241m=\u001b[39mobj_obs[time_col], mags\u001b[38;5;241m=\u001b[39mobj_obs[mag_col])\n\u001b[1;32m      3\u001b[0m \u001b[38;5;28mprint\u001b[39m(star2\u001b[38;5;241m.\u001b[39mmband_lc[\u001b[38;5;124m\"\u001b[39m\u001b[38;5;124mg\u001b[39m\u001b[38;5;124m\"\u001b[39m]\u001b[38;5;241m.\u001b[39mmean_mag)\n",
      "\u001b[0;31mNameError\u001b[0m: name 'obj_id' is not defined"
     ]
    }
   ],
   "source": [
    "star2 = Variable(obj_id)\n",
    "star2.add_lc(band=b, mjds=obj_obs[time_col], mags=obj_obs[mag_col])\n",
    "print(star2.mband_lc[\"g\"].mean_mag)"
   ]
  },
  {
   "cell_type": "markdown",
   "id": "7956fbae-22be-473d-a116-131aac1dd9cd",
   "metadata": {},
   "source": [
    "### Inheritance"
   ]
  },
  {
   "cell_type": "code",
   "execution_count": 32,
   "id": "308dc0d7-0c9c-419f-bdba-3cca29e98b0c",
   "metadata": {},
   "outputs": [],
   "source": [
    "class Variable:\n",
    "    \"\"\"A Variable class\"\"\"\n",
    "\n",
    "    def __init__(self, obj_id):\n",
    "        self.obj_id = obj_id\n",
    "        self.mband_lc = {}\n",
    "\n",
    "    def add_lc(self, band, mjds, mags, mag_errs=None):\n",
    "        self.mband_lc[band] = Lightcurve(mjds, mags, mag_errs)\n",
    "        return self.mband_lc\n",
    "\n",
    "    def __str__(self):\n",
    "        return str(self.obj_id)"
   ]
  },
  {
   "cell_type": "code",
   "execution_count": 33,
   "id": "bafacdb9-b059-4e0c-9563-6e77465ece1e",
   "metadata": {},
   "outputs": [],
   "source": [
    "class RRLyrae(Variable):\n",
    "    \"\"\"A class for RR Lyrae stars.\"\"\"\n",
    "\n",
    "    def __init__(self, obj_id):\n",
    "        super().__init__(obj_id)\n",
    "        self.period = None\n",
    "\n",
    "    def period_determination(self, period_range=(0.1, 3)):\n",
    "        \"\"\"A function to determine the period\"\"\"\n",
    "        self.period = 0.3\n",
    "        return"
   ]
  },
  {
   "cell_type": "code",
   "execution_count": 34,
   "id": "39c920c9-cf44-4bce-8c36-6e8840e856b3",
   "metadata": {},
   "outputs": [
    {
     "ename": "NameError",
     "evalue": "name 'obj_id' is not defined",
     "output_type": "error",
     "traceback": [
      "\u001b[0;31m---------------------------------------------------------------------------\u001b[0m",
      "\u001b[0;31mNameError\u001b[0m                                 Traceback (most recent call last)",
      "Cell \u001b[0;32mIn[34], line 1\u001b[0m\n\u001b[0;32m----> 1\u001b[0m rr_lyrae \u001b[38;5;241m=\u001b[39m RRLyrae(\u001b[43mobj_id\u001b[49m)\n",
      "\u001b[0;31mNameError\u001b[0m: name 'obj_id' is not defined"
     ]
    }
   ],
   "source": [
    "rr_lyrae = RRLyrae(obj_id)"
   ]
  },
  {
   "cell_type": "code",
   "execution_count": 35,
   "id": "446385f9-f524-4075-93eb-3265a85ee0b9",
   "metadata": {},
   "outputs": [
    {
     "ename": "NameError",
     "evalue": "name 'rr_lyrae' is not defined",
     "output_type": "error",
     "traceback": [
      "\u001b[0;31m---------------------------------------------------------------------------\u001b[0m",
      "\u001b[0;31mNameError\u001b[0m                                 Traceback (most recent call last)",
      "Cell \u001b[0;32mIn[35], line 1\u001b[0m\n\u001b[0;32m----> 1\u001b[0m \u001b[38;5;28mprint\u001b[39m(\u001b[43mrr_lyrae\u001b[49m\u001b[38;5;241m.\u001b[39mmband_lc)\n\u001b[1;32m      2\u001b[0m \u001b[38;5;28mprint\u001b[39m(rr_lyrae\u001b[38;5;241m.\u001b[39mperiod)\n",
      "\u001b[0;31mNameError\u001b[0m: name 'rr_lyrae' is not defined"
     ]
    }
   ],
   "source": [
    "print(rr_lyrae.mband_lc)\n",
    "print(rr_lyrae.period)"
   ]
  },
  {
   "cell_type": "code",
   "execution_count": 207,
   "id": "32e0a70f-1e47-4aca-b91f-55acaa06c7ec",
   "metadata": {},
   "outputs": [],
   "source": [
    "rr_lyrae.period_determination()"
   ]
  },
  {
   "cell_type": "code",
   "execution_count": 208,
   "id": "d6f74212-3651-47e0-ace8-ac0762a7514b",
   "metadata": {},
   "outputs": [
    {
     "data": {
      "text/plain": [
       "0.3"
      ]
     },
     "execution_count": 208,
     "metadata": {},
     "output_type": "execute_result"
    }
   ],
   "source": [
    "rr_lyrae.period"
   ]
  },
  {
   "cell_type": "markdown",
   "id": "2e13e13c-0e7c-4990-b018-1ce3dc9df40f",
   "metadata": {},
   "source": [
    "### Data table class"
   ]
  },
  {
   "cell_type": "code",
   "execution_count": 39,
   "id": "2e016fa7-e762-4f96-b56d-9b0bb632a581",
   "metadata": {},
   "outputs": [],
   "source": [
    "class Survey:\n",
    "    def __init__(self, filename):\n",
    "        self.id_col = \"objectId\"\n",
    "        self.band_col = \"band\"\n",
    "        self.time_col = \"expMidptMJD\"\n",
    "        self.mag_col = \"psfMag\"\n",
    "        self.data = self.load_table(filename)\n",
    "        self.unique_objects = self.data[self.id_col].unique()\n",
    "\n",
    "    def load_table(self, filename):\n",
    "        \"\"\"Load a table from CSV file.\n",
    "\n",
    "        :param filename: The name of the .csv file to load\n",
    "        :returns: pd.DataFrame with the data from the file.\n",
    "        \"\"\"\n",
    "        if filename.endswith(\".csv\"):\n",
    "            df = pd.read_csv(filename)\n",
    "        elif filename.endswith(\".pkl\"):\n",
    "            df = pd.read_pickle(filename)\n",
    "        return df\n",
    "\n",
    "    def get_obj_band_df(self, obj_id, band):\n",
    "        filt_band_obj = (self.data[self.id_col] == obj_id) & (\n",
    "            self.data[self.band_col] == band\n",
    "        )\n",
    "        return self.data[filt_band_obj]\n",
    "\n",
    "    def get_lc(self, obj_id, band):\n",
    "        df = self.get_obj_band_df(obj_id, band)\n",
    "        lc = Lightcurve(mjds=df[time_col], mags=df[mag_col])\n",
    "        return lc.lc"
   ]
  },
  {
   "cell_type": "code",
   "execution_count": 46,
   "id": "a42e1954-1bae-4ee9-ac22-2d11d3bef0c7",
   "metadata": {},
   "outputs": [],
   "source": [
    "lsst = Survey(\"data/lsst_RRLyr.pkl\")"
   ]
  },
  {
   "cell_type": "code",
   "execution_count": 47,
   "id": "44bc91de-67a1-42c5-8e1a-b1e44cb64eca",
   "metadata": {},
   "outputs": [
    {
     "data": {
      "text/plain": [
       "{'mjds': array([59876.1486552, 59840.2376442, 61298.2857732, 61329.2497022,\n",
       "        61298.3073452, 61378.1931902, 60993.0627302, 61269.3148392,\n",
       "        60555.2806752, 61378.1712402, 60286.0813702, 60962.2793252,\n",
       "        60679.1080032, 60679.0854702, 60993.0649582, 60260.2356992,\n",
       "        61269.3338092, 60555.2943272, 60286.0800202, 59841.2943612,\n",
       "        61358.0823242, 59876.1473062, 59791.3514662, 61084.1135872,\n",
       "        61109.0278642, 61384.1322352, 61109.0427072, 60962.1831932,\n",
       "        61017.0816122, 61356.1775552, 61017.0811632, 60177.3163482,\n",
       "        60962.1845452, 60962.1760522, 60177.3321762, 61050.1563862,\n",
       "        60610.1441012, 60286.0663042, 61329.2703862, 59958.1358992,\n",
       "        60588.2042292, 59841.3281512, 59876.1665182, 60260.2130452]),\n",
       " 'mags': array([26.65128046, 25.95542808, 26.29130909, 25.56378835, 25.95958066,\n",
       "        24.98153458, 25.51662685, 28.47945744, 26.46714184, 25.70013033,\n",
       "        25.86521625, 26.19794681, 26.48325015, 27.72604482, 24.59013262,\n",
       "        25.26039505, 26.73649717, 25.63094169, 25.47200692, 24.8164203 ,\n",
       "        26.57017517, 26.67089378, 25.04088473, 26.9396907 , 24.23127321,\n",
       "        25.70283697, 24.65087597, 25.52734145, 26.50003673, 26.13553655,\n",
       "        26.97711478, 25.18579381, 26.21692073, 25.06650234, 26.52027417,\n",
       "        26.19449038, 31.86361544, 26.95878485, 27.09045985, 25.66065189,\n",
       "                nan, 25.34702186,         nan, 24.70179379])}"
      ]
     },
     "execution_count": 47,
     "metadata": {},
     "output_type": "execute_result"
    }
   ],
   "source": [
    "lsst.get_lc(1251384969897480052, \"g\")"
   ]
  },
  {
   "cell_type": "code",
   "execution_count": 44,
   "id": "bc1cd5ac-7823-4e38-97e1-71ff58e48f3a",
   "metadata": {},
   "outputs": [
    {
     "data": {
      "text/plain": [
       "Index(['time', 'flux', 'flux_err', 'quality', 'timecorr', 'centroid_col',\n",
       "       'centroid_row', 'cadenceno', 'sap_flux', 'sap_flux_err', 'sap_bkg',\n",
       "       'sap_bkg_err', 'pdcsap_flux', 'pdcsap_flux_err', 'sap_quality',\n",
       "       'psf_centr1', 'psf_centr1_err', 'psf_centr2', 'psf_centr2_err',\n",
       "       'mom_centr1', 'mom_centr1_err', 'mom_centr2', 'mom_centr2_err',\n",
       "       'pos_corr1', 'pos_corr2'],\n",
       "      dtype='object')"
      ]
     },
     "execution_count": 44,
     "metadata": {},
     "output_type": "execute_result"
    }
   ],
   "source": [
    "lc_datasets[\"kepler\"].columns"
   ]
  },
  {
   "cell_type": "code",
   "execution_count": 1,
   "id": "0a46f1b3-9fac-4cb9-a1d5-4d63be0d5ea5",
   "metadata": {},
   "outputs": [],
   "source": [
    "import pandas as pd"
   ]
  },
  {
   "cell_type": "code",
   "execution_count": 3,
   "id": "2f9674fd-bb13-4c81-bd63-6fa03ca3ee27",
   "metadata": {},
   "outputs": [
    {
     "data": {
      "text/plain": [
       "'\\npandas - a powerful data analysis and manipulation library for Python\\n=====================================================================\\n\\n**pandas** is a Python package providing fast, flexible, and expressive data\\nstructures designed to make working with \"relational\" or \"labeled\" data both\\neasy and intuitive. It aims to be the fundamental high-level building block for\\ndoing practical, **real world** data analysis in Python. Additionally, it has\\nthe broader goal of becoming **the most powerful and flexible open source data\\nanalysis / manipulation tool available in any language**. It is already well on\\nits way toward this goal.\\n\\nMain Features\\n-------------\\nHere are just a few of the things that pandas does well:\\n\\n  - Easy handling of missing data in floating point as well as non-floating\\n    point data.\\n  - Size mutability: columns can be inserted and deleted from DataFrame and\\n    higher dimensional objects\\n  - Automatic and explicit data alignment: objects can be explicitly aligned\\n    to a set of labels, or the user can simply ignore the labels and let\\n    `Series`, `DataFrame`, etc. automatically align the data for you in\\n    computations.\\n  - Powerful, flexible group by functionality to perform split-apply-combine\\n    operations on data sets, for both aggregating and transforming data.\\n  - Make it easy to convert ragged, differently-indexed data in other Python\\n    and NumPy data structures into DataFrame objects.\\n  - Intelligent label-based slicing, fancy indexing, and subsetting of large\\n    data sets.\\n  - Intuitive merging and joining data sets.\\n  - Flexible reshaping and pivoting of data sets.\\n  - Hierarchical labeling of axes (possible to have multiple labels per tick).\\n  - Robust IO tools for loading data from flat files (CSV and delimited),\\n    Excel files, databases, and saving/loading data from the ultrafast HDF5\\n    format.\\n  - Time series-specific functionality: date range generation and frequency\\n    conversion, moving window statistics, date shifting and lagging.\\n'"
      ]
     },
     "execution_count": 3,
     "metadata": {},
     "output_type": "execute_result"
    }
   ],
   "source": [
    "pd.__doc__"
   ]
  },
  {
   "cell_type": "code",
   "execution_count": null,
   "id": "039a8ece-de9b-4dc3-8c73-1889e8716498",
   "metadata": {},
   "outputs": [],
   "source": []
  }
 ],
 "metadata": {
  "kernelspec": {
   "display_name": "Python 3 (ipykernel)",
   "language": "python",
   "name": "python3"
  },
  "language_info": {
   "codemirror_mode": {
    "name": "ipython",
    "version": 3
   },
   "file_extension": ".py",
   "mimetype": "text/x-python",
   "name": "python",
   "nbconvert_exporter": "python",
   "pygments_lexer": "ipython3",
   "version": "3.11.5"
  }
 },
 "nbformat": 4,
 "nbformat_minor": 5
}
