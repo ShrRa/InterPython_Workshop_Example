{
 "cells": [
  {
   "cell_type": "markdown",
   "metadata": {},
   "source": [
    "# Test Development Notebook"
   ]
  },
  {
   "cell_type": "markdown",
   "metadata": {
    "vscode": {
     "languageId": "plaintext"
    }
   },
   "source": [
    "### Imports"
   ]
  },
  {
   "cell_type": "code",
   "execution_count": 11,
   "metadata": {},
   "outputs": [],
   "source": [
    "import matplotlib.pyplot as plt\n",
    "import pandas as pd\n",
    "\n",
    "import lcanalyzer.models as models"
   ]
  },
  {
   "cell_type": "markdown",
   "metadata": {},
   "source": [
    "### Params"
   ]
  },
  {
   "cell_type": "code",
   "execution_count": 13,
   "metadata": {},
   "outputs": [],
   "source": [
    "bands = \"ugrizy\"\n",
    "mag_col = \"psfMag\"\n",
    "time_col = \"expMidptMJD\""
   ]
  },
  {
   "cell_type": "markdown",
   "metadata": {},
   "source": [
    "### Load the data"
   ]
  },
  {
   "cell_type": "code",
   "execution_count": 3,
   "metadata": {},
   "outputs": [],
   "source": [
    "lc_datasets = {}\n",
    "lc_datasets[\"lsst\"] = pd.read_pickle(\"data/lsst_RRLyr.pkl\")\n",
    "lc_datasets[\"kepler\"] = pd.read_csv(\"data/kepler_RRLyr.csv\")"
   ]
  },
  {
   "cell_type": "code",
   "execution_count": null,
   "metadata": {},
   "outputs": [],
   "source": []
  },
  {
   "cell_type": "markdown",
   "metadata": {},
   "source": [
    "### Select a single light curve"
   ]
  },
  {
   "cell_type": "code",
   "execution_count": 9,
   "metadata": {},
   "outputs": [
    {
     "data": {
      "text/html": [
       "<div>\n",
       "<style scoped>\n",
       "    .dataframe tbody tr th:only-of-type {\n",
       "        vertical-align: middle;\n",
       "    }\n",
       "\n",
       "    .dataframe tbody tr th {\n",
       "        vertical-align: top;\n",
       "    }\n",
       "\n",
       "    .dataframe thead th {\n",
       "        text-align: right;\n",
       "    }\n",
       "</style>\n",
       "<table border=\"1\" class=\"dataframe\">\n",
       "  <thead>\n",
       "    <tr style=\"text-align: right;\">\n",
       "      <th></th>\n",
       "      <th>band</th>\n",
       "      <th>ccdVisitId</th>\n",
       "      <th>coord_ra</th>\n",
       "      <th>coord_dec</th>\n",
       "      <th>objectId</th>\n",
       "      <th>psfFlux</th>\n",
       "      <th>psfFluxErr</th>\n",
       "      <th>psfMag</th>\n",
       "      <th>ccdVisitId2</th>\n",
       "      <th>band2</th>\n",
       "      <th>expMidptMJD</th>\n",
       "      <th>zeroPoint</th>\n",
       "    </tr>\n",
       "  </thead>\n",
       "  <tbody>\n",
       "    <tr>\n",
       "      <th>0</th>\n",
       "      <td>y</td>\n",
       "      <td>1032263018</td>\n",
       "      <td>62.462569</td>\n",
       "      <td>-44.113360</td>\n",
       "      <td>1251384969897480052</td>\n",
       "      <td>-515.183603</td>\n",
       "      <td>1697.218490</td>\n",
       "      <td>NaN</td>\n",
       "      <td>1032263018</td>\n",
       "      <td>y</td>\n",
       "      <td>61100.069706</td>\n",
       "      <td>30.602301</td>\n",
       "    </tr>\n",
       "    <tr>\n",
       "      <th>1</th>\n",
       "      <td>y</td>\n",
       "      <td>1033987172</td>\n",
       "      <td>62.462569</td>\n",
       "      <td>-44.113360</td>\n",
       "      <td>1251384969897480052</td>\n",
       "      <td>3151.738459</td>\n",
       "      <td>1686.955775</td>\n",
       "      <td>22.653625</td>\n",
       "      <td>1033987172</td>\n",
       "      <td>y</td>\n",
       "      <td>61102.068464</td>\n",
       "      <td>30.606100</td>\n",
       "    </tr>\n",
       "    <tr>\n",
       "      <th>2</th>\n",
       "      <td>u</td>\n",
       "      <td>675163080</td>\n",
       "      <td>62.462569</td>\n",
       "      <td>-44.113360</td>\n",
       "      <td>1251384969897480052</td>\n",
       "      <td>183.449123</td>\n",
       "      <td>209.242045</td>\n",
       "      <td>25.741211</td>\n",
       "      <td>675163080</td>\n",
       "      <td>u</td>\n",
       "      <td>60582.247144</td>\n",
       "      <td>30.469101</td>\n",
       "    </tr>\n",
       "    <tr>\n",
       "      <th>3</th>\n",
       "      <td>y</td>\n",
       "      <td>443055067</td>\n",
       "      <td>62.462569</td>\n",
       "      <td>-44.113360</td>\n",
       "      <td>1251384969897480052</td>\n",
       "      <td>-704.848327</td>\n",
       "      <td>1624.400086</td>\n",
       "      <td>NaN</td>\n",
       "      <td>443055067</td>\n",
       "      <td>y</td>\n",
       "      <td>60215.203585</td>\n",
       "      <td>30.612801</td>\n",
       "    </tr>\n",
       "    <tr>\n",
       "      <th>4</th>\n",
       "      <td>u</td>\n",
       "      <td>466722002</td>\n",
       "      <td>62.462569</td>\n",
       "      <td>-44.113360</td>\n",
       "      <td>1251384969897480052</td>\n",
       "      <td>382.472233</td>\n",
       "      <td>278.926670</td>\n",
       "      <td>24.943500</td>\n",
       "      <td>466722002</td>\n",
       "      <td>u</td>\n",
       "      <td>60261.078221</td>\n",
       "      <td>30.461201</td>\n",
       "    </tr>\n",
       "    <tr>\n",
       "      <th>...</th>\n",
       "      <td>...</td>\n",
       "      <td>...</td>\n",
       "      <td>...</td>\n",
       "      <td>...</td>\n",
       "      <td>...</td>\n",
       "      <td>...</td>\n",
       "      <td>...</td>\n",
       "      <td>...</td>\n",
       "      <td>...</td>\n",
       "      <td>...</td>\n",
       "      <td>...</td>\n",
       "      <td>...</td>\n",
       "    </tr>\n",
       "    <tr>\n",
       "      <th>11172</th>\n",
       "      <td>i</td>\n",
       "      <td>428582024</td>\n",
       "      <td>66.267960</td>\n",
       "      <td>-27.741765</td>\n",
       "      <td>2185793931646635508</td>\n",
       "      <td>544023.409292</td>\n",
       "      <td>922.343038</td>\n",
       "      <td>17.060956</td>\n",
       "      <td>428582024</td>\n",
       "      <td>i</td>\n",
       "      <td>60193.365488</td>\n",
       "      <td>31.846800</td>\n",
       "    </tr>\n",
       "    <tr>\n",
       "      <th>11173</th>\n",
       "      <td>i</td>\n",
       "      <td>1173720158</td>\n",
       "      <td>66.267960</td>\n",
       "      <td>-27.741765</td>\n",
       "      <td>2185793931646635508</td>\n",
       "      <td>393272.358975</td>\n",
       "      <td>768.388803</td>\n",
       "      <td>17.413266</td>\n",
       "      <td>1173720158</td>\n",
       "      <td>i</td>\n",
       "      <td>61305.324734</td>\n",
       "      <td>31.849400</td>\n",
       "    </tr>\n",
       "    <tr>\n",
       "      <th>11174</th>\n",
       "      <td>i</td>\n",
       "      <td>1173719142</td>\n",
       "      <td>66.267960</td>\n",
       "      <td>-27.741765</td>\n",
       "      <td>2185793931646635508</td>\n",
       "      <td>342286.052877</td>\n",
       "      <td>720.070098</td>\n",
       "      <td>17.564027</td>\n",
       "      <td>1173719142</td>\n",
       "      <td>i</td>\n",
       "      <td>61305.324286</td>\n",
       "      <td>31.846701</td>\n",
       "    </tr>\n",
       "    <tr>\n",
       "      <th>11175</th>\n",
       "      <td>i</td>\n",
       "      <td>238057099</td>\n",
       "      <td>66.267960</td>\n",
       "      <td>-27.741765</td>\n",
       "      <td>2185793931646635508</td>\n",
       "      <td>547265.490786</td>\n",
       "      <td>910.999082</td>\n",
       "      <td>17.054505</td>\n",
       "      <td>238057099</td>\n",
       "      <td>i</td>\n",
       "      <td>59908.119769</td>\n",
       "      <td>31.843300</td>\n",
       "    </tr>\n",
       "    <tr>\n",
       "      <th>11176</th>\n",
       "      <td>i</td>\n",
       "      <td>238070159</td>\n",
       "      <td>66.267960</td>\n",
       "      <td>-27.741765</td>\n",
       "      <td>2185793931646635508</td>\n",
       "      <td>12218.856010</td>\n",
       "      <td>291.829070</td>\n",
       "      <td>21.182424</td>\n",
       "      <td>238070159</td>\n",
       "      <td>i</td>\n",
       "      <td>59908.126045</td>\n",
       "      <td>31.838100</td>\n",
       "    </tr>\n",
       "  </tbody>\n",
       "</table>\n",
       "<p>11177 rows × 12 columns</p>\n",
       "</div>"
      ],
      "text/plain": [
       "      band  ccdVisitId   coord_ra  coord_dec             objectId  \\\n",
       "0        y  1032263018  62.462569 -44.113360  1251384969897480052   \n",
       "1        y  1033987172  62.462569 -44.113360  1251384969897480052   \n",
       "2        u   675163080  62.462569 -44.113360  1251384969897480052   \n",
       "3        y   443055067  62.462569 -44.113360  1251384969897480052   \n",
       "4        u   466722002  62.462569 -44.113360  1251384969897480052   \n",
       "...    ...         ...        ...        ...                  ...   \n",
       "11172    i   428582024  66.267960 -27.741765  2185793931646635508   \n",
       "11173    i  1173720158  66.267960 -27.741765  2185793931646635508   \n",
       "11174    i  1173719142  66.267960 -27.741765  2185793931646635508   \n",
       "11175    i   238057099  66.267960 -27.741765  2185793931646635508   \n",
       "11176    i   238070159  66.267960 -27.741765  2185793931646635508   \n",
       "\n",
       "             psfFlux   psfFluxErr     psfMag  ccdVisitId2 band2   expMidptMJD  \\\n",
       "0        -515.183603  1697.218490        NaN   1032263018     y  61100.069706   \n",
       "1        3151.738459  1686.955775  22.653625   1033987172     y  61102.068464   \n",
       "2         183.449123   209.242045  25.741211    675163080     u  60582.247144   \n",
       "3        -704.848327  1624.400086        NaN    443055067     y  60215.203585   \n",
       "4         382.472233   278.926670  24.943500    466722002     u  60261.078221   \n",
       "...              ...          ...        ...          ...   ...           ...   \n",
       "11172  544023.409292   922.343038  17.060956    428582024     i  60193.365488   \n",
       "11173  393272.358975   768.388803  17.413266   1173720158     i  61305.324734   \n",
       "11174  342286.052877   720.070098  17.564027   1173719142     i  61305.324286   \n",
       "11175  547265.490786   910.999082  17.054505    238057099     i  59908.119769   \n",
       "11176   12218.856010   291.829070  21.182424    238070159     i  59908.126045   \n",
       "\n",
       "       zeroPoint  \n",
       "0      30.602301  \n",
       "1      30.606100  \n",
       "2      30.469101  \n",
       "3      30.612801  \n",
       "4      30.461201  \n",
       "...          ...  \n",
       "11172  31.846800  \n",
       "11173  31.849400  \n",
       "11174  31.846701  \n",
       "11175  31.843300  \n",
       "11176  31.838100  \n",
       "\n",
       "[11177 rows x 12 columns]"
      ]
     },
     "execution_count": 9,
     "metadata": {},
     "output_type": "execute_result"
    }
   ],
   "source": [
    "lc_datasets[\"lsst\"]"
   ]
  },
  {
   "cell_type": "code",
   "execution_count": null,
   "metadata": {},
   "outputs": [],
   "source": [
    "bands = \"ugrizy\""
   ]
  },
  {
   "cell_type": "code",
   "execution_count": null,
   "metadata": {},
   "outputs": [],
   "source": []
  },
  {
   "cell_type": "code",
   "execution_count": 27,
   "metadata": {},
   "outputs": [],
   "source": [
    "# Create an empty list where we will be storing our light curves\n",
    "lcs = []\n",
    "# For each observed object\n",
    "for obj_id in lc_datasets[\"lsst\"][\"objectId\"].unique():\n",
    "    # Create an empty dict for the light curves of this object\n",
    "    lc = {}\n",
    "    lc[\"objectId\"] = obj_id\n",
    "    for b in bands:\n",
    "        filt_band_obj = (lc_datasets[\"lsst\"][\"objectId\"] == obj_id) & (\n",
    "            lc_datasets[\"lsst\"][\"band\"] == b\n",
    "        )\n",
    "        # The observations in each band are converted to lists and stored as dict elements\n",
    "        lc[b + \"_\" + mag_col] = np.array(lc_datasets[\"lsst\"][filt_band_obj][mag_col])\n",
    "        lc[b + \"_\" + time_col] = np.array(lc_datasets[\"lsst\"][filt_band_obj][time_col])\n",
    "    lcs.append(lc)\n",
    "# Turn the list of dicts into a DataFrame\n",
    "lcs = pd.DataFrame.from_records(lcs)"
   ]
  },
  {
   "cell_type": "code",
   "execution_count": 34,
   "metadata": {},
   "outputs": [],
   "source": [
    "lcs[\"u_psfMag_cleaned\", [\"u_psfMag_cleaned\"]] = lcs.apply(\n",
    "    lambda l: l[\"u_psfMag\"][~np.isnan(l[\"u_psfMag\"])], axis=1\n",
    ")"
   ]
  },
  {
   "cell_type": "code",
   "execution_count": 65,
   "metadata": {},
   "outputs": [
    {
     "data": {
      "text/plain": [
       "array([0, 0, 0])"
      ]
     },
     "execution_count": 65,
     "metadata": {},
     "output_type": "execute_result"
    }
   ],
   "source": []
  },
  {
   "cell_type": "code",
   "execution_count": 45,
   "metadata": {},
   "outputs": [],
   "source": [
    "b = \"u\"\n",
    "lcs[b + \"_\" + mag_col + \"_cleaned\"] = lcs[b + \"_\" + mag_col].map(\n",
    "    lambda l: np.where(np.isnan(l), 0, l)\n",
    ")"
   ]
  },
  {
   "cell_type": "code",
   "execution_count": 49,
   "metadata": {},
   "outputs": [],
   "source": [
    "b = \"u\"\n",
    "mcol = b + \"_\" + mag_col\n",
    "tcol = b + \"_\" + time_col\n",
    "mcol_cl = mcol + \"_cleaned\"\n",
    "tcol_cl = tcol + \"_cleaned\"\n",
    "lcs[[mcol_cl, tcol_cl]] = lcs.apply(\n",
    "    lambda l: (\n",
    "        l[mcol][~np.isnan(l[mcol])],\n",
    "        l[tcol][~np.isnan(l[mcol])],\n",
    "    ),\n",
    "    axis=1,\n",
    "    result_type=\"expand\",\n",
    ")"
   ]
  },
  {
   "cell_type": "code",
   "execution_count": 56,
   "metadata": {},
   "outputs": [
    {
     "data": {
      "text/plain": [
       "0     [25.741210900246656, 24.94350022063739, nan, n...\n",
       "1     [20.138613608325954, 20.08687354418428, 20.595...\n",
       "2     [18.801602946353793, 18.798748054955016, 18.80...\n",
       "3     [20.40735200568554, 20.393038732827815, 20.388...\n",
       "4     [20.83041876435392, 20.99746357451392, 20.3530...\n",
       "5     [20.25341799399802, 20.254002025419684, 20.252...\n",
       "6     [20.64636943563218, 20.425349592686068, 20.948...\n",
       "7     [19.404254599242083, 20.261958684398444, 20.31...\n",
       "8     [21.23835932951451, 21.08540308502575, 21.2483...\n",
       "9     [21.693097371323958, 20.812380837184147, 20.86...\n",
       "10    [20.12085912008535, 19.37735442480281, 20.1584...\n",
       "11    [20.18502543612132, 20.22834692941896, 20.1975...\n",
       "12    [20.14716397622808, 19.927608648922437, 20.314...\n",
       "13    [21.200378154531695, 21.2190403669264, 21.1956...\n",
       "14    [22.292053352569148, 22.3234684645578, 21.7890...\n",
       "15    [21.748107650663336, 22.43246686396091, 21.726...\n",
       "16    [22.097761351324216, 21.988389011787593, 22.00...\n",
       "17    [20.287145316884303, 20.2902212003806, 20.3054...\n",
       "18    [21.57769268011738, 21.60457935623813, 21.6209...\n",
       "19    [20.769353122027923, 20.7764504682808, 20.7599...\n",
       "20    [20.18131722773111, 20.192027894452668, 20.177...\n",
       "21    [18.988640139707435, 18.977607731743888, 18.99...\n",
       "22    [24.42656374869295, 24.719156357592148, 28.148...\n",
       "23    [18.269637171169716, 18.27896185047816, 18.283...\n",
       "24    [18.813341360685175, 18.794125676477137, 18.78...\n",
       "Name: u_psfMag, dtype: object"
      ]
     },
     "execution_count": 56,
     "metadata": {},
     "output_type": "execute_result"
    }
   ],
   "source": [
    "lcs[mcol]"
   ]
  },
  {
   "cell_type": "code",
   "execution_count": 61,
   "metadata": {},
   "outputs": [
    {
     "data": {
      "text/plain": [
       "24"
      ]
     },
     "execution_count": 61,
     "metadata": {},
     "output_type": "execute_result"
    }
   ],
   "source": [
    "len(lcs[tcol_cl].iloc[0])"
   ]
  },
  {
   "cell_type": "code",
   "execution_count": 62,
   "metadata": {},
   "outputs": [
    {
     "data": {
      "text/plain": [
       "24"
      ]
     },
     "execution_count": 62,
     "metadata": {},
     "output_type": "execute_result"
    }
   ],
   "source": [
    "len(lcs[mcol_cl].iloc[0])"
   ]
  },
  {
   "cell_type": "code",
   "execution_count": 54,
   "metadata": {},
   "outputs": [
    {
     "data": {
      "text/plain": [
       "<matplotlib.collections.PathCollection at 0x7f4f338f5ed0>"
      ]
     },
     "execution_count": 54,
     "metadata": {},
     "output_type": "execute_result"
    },
    {
     "data": {
      "image/png": "[encoded data removed]",
      "text/plain": [
       "<Figure size 640x480 with 1 Axes>"
      ]
     },
     "metadata": {},
     "output_type": "display_data"
    }
   ],
   "source": [
    "i = 1\n",
    "plt.scatter(lcs[tcol].iloc[i],lcs[mcol].iloc[i])\n",
    "plt.scatter(lcs[tcol_cl].iloc[i],lcs[mcol_cl].iloc[i])"
   ]
  },
  {
   "cell_type": "code",
   "execution_count": 102,
   "metadata": {},
   "outputs": [],
   "source": [
    "# max_tab_by_groupby = lc_datasets[\"lsst\"].groupby([\"objectId\", \"band\"])[\"psfMag\"].max()\n",
    "# max_tab_by_groupby.reset_index()"
   ]
  },
  {
   "cell_type": "code",
   "execution_count": null,
   "metadata": {},
   "outputs": [],
   "source": []
  },
  {
   "cell_type": "code",
   "execution_count": 37,
   "metadata": {},
   "outputs": [],
   "source": [
    "import time\n",
    "\n",
    "\n",
    "def profile(func):\n",
    "    def inner(*args, **kwargs):\n",
    "        start = time.process_time_ns()\n",
    "        result = func(*args, **kwargs)\n",
    "        stop = time.process_time_ns()\n",
    "\n",
    "        print(\"Took {0} seconds\".format((stop - start) / 1e9))\n",
    "        return result\n",
    "\n",
    "    return inner"
   ]
  },
  {
   "cell_type": "code",
   "execution_count": 38,
   "metadata": {},
   "outputs": [
    {
     "name": "stdout",
     "output_type": "stream",
     "text": [
      "Took 0.066366822 seconds\n",
      "333332833333500000\n"
     ]
    }
   ],
   "source": [
    "@profile\n",
    "def measure_me(n):\n",
    "    total = 0\n",
    "    for i in range(n):\n",
    "        total += i * i\n",
    "\n",
    "    return total\n",
    "\n",
    "\n",
    "print(measure_me(1000000))"
   ]
  },
  {
   "cell_type": "code",
   "execution_count": 63,
   "metadata": {},
   "outputs": [],
   "source": [
    "data = pd.DataFrame(data = [[1., 2., 3.],\n",
    "                            [4., 5., 6.]],\n",
    "                    columns = list('abc'))"
   ]
  },
  {
   "cell_type": "code",
   "execution_count": null,
   "metadata": {},
   "outputs": [],
   "source": []
  }
 ],
 "metadata": {
  "kernelspec": {
   "display_name": "Python 3 (ipykernel)",
   "language": "python",
   "name": "python3"
  },
  "language_info": {
   "codemirror_mode": {
    "name": "ipython",
    "version": 3
   },
   "file_extension": ".py",
   "mimetype": "text/x-python",
   "name": "python",
   "nbconvert_exporter": "python",
   "pygments_lexer": "ipython3",
   "version": "3.11.5"
  }
 },
 "nbformat": 4,
 "nbformat_minor": 4
}
