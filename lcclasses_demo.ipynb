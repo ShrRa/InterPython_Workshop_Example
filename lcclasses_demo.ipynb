{
 "cells": [
  {
   "cell_type": "code",
   "execution_count": 2,
   "id": "63c64046",
   "metadata": {},
   "outputs": [
    {
     "ename": "SyntaxError",
     "evalue": "invalid syntax (lightcurve_classes.py, line 137)",
     "output_type": "error",
     "traceback": [
      "Traceback \u001b[0;36m(most recent call last)\u001b[0m:\n",
      "  File \u001b[1;32m~/opt/anaconda3/lib/python3.9/site-packages/IPython/core/interactiveshell.py:3369\u001b[0m in \u001b[1;35mrun_code\u001b[0m\n    exec(code_obj, self.user_global_ns, self.user_ns)\n",
      "\u001b[0;36m  Input \u001b[0;32mIn [2]\u001b[0;36m in \u001b[0;35m<cell line: 1>\u001b[0;36m\u001b[0m\n\u001b[0;31m    from lcanalyzer import lightcurve_classes\u001b[0m\n",
      "\u001b[0;36m  File \u001b[0;32m~/Desktop/InterPython_Workshop_Example/lcanalyzer/lightcurve_classes.py:137\u001b[0;36m\u001b[0m\n\u001b[0;31m    def__init__(self):\u001b[0m\n\u001b[0m                      ^\u001b[0m\n\u001b[0;31mSyntaxError\u001b[0m\u001b[0;31m:\u001b[0m invalid syntax\n"
     ]
    }
   ],
   "source": [
    "from lcanalyzer import lightcurve_classes\n",
    "from lcanalyzer.lightcurve_classes import LightCurve, Supernova"
   ]
  },
  {
   "cell_type": "code",
   "execution_count": null,
   "id": "816c7c34",
   "metadata": {},
   "outputs": [],
   "source": [
    "print(LightCurve(\"Vega\"))"
   ]
  },
  {
   "cell_type": "code",
   "execution_count": null,
   "id": "f732c854",
   "metadata": {},
   "outputs": [],
   "source": [
    "vega = LightCurve(\"Vega\")\n",
    "vega.add_observations([0,1,2], [1,2,3], [0.1, 0.1, 0.2])\n",
    "print(vega)"
   ]
  },
  {
   "cell_type": "code",
   "execution_count": null,
   "id": "aacf0982",
   "metadata": {},
   "outputs": [],
   "source": [
    "sn2008D = Supernova(\"SN2008D\")"
   ]
  },
  {
   "cell_type": "code",
   "execution_count": null,
   "id": "3ffe167c",
   "metadata": {},
   "outputs": [],
   "source": [
    "print(sn2008D)"
   ]
  },
  {
   "cell_type": "code",
   "execution_count": null,
   "id": "71a0f9d7",
   "metadata": {},
   "outputs": [],
   "source": [
    "sn = Supernova(\"SN2008D\", mjd=[0,1,2], magnitude=[1,2,3], \n",
    "               magnitude_errors=[2,3,4])"
   ]
  },
  {
   "cell_type": "code",
   "execution_count": null,
   "id": "0233e5bf",
   "metadata": {},
   "outputs": [],
   "source": [
    "print(sn)"
   ]
  },
  {
   "cell_type": "code",
   "execution_count": null,
   "id": "bf7b98a8",
   "metadata": {},
   "outputs": [],
   "source": [
    "sn.peak_mjd"
   ]
  },
  {
   "cell_type": "code",
   "execution_count": null,
   "id": "75de72dd",
   "metadata": {},
   "outputs": [],
   "source": [
    "sn.set_peak(1.5, 2.5)\n",
    "sn.peak_mjd"
   ]
  },
  {
   "cell_type": "code",
   "execution_count": null,
   "id": "bcd68b96",
   "metadata": {},
   "outputs": [],
   "source": [
    "sn.set_sntype(\"Ic-BL\")"
   ]
  }
 ],
 "metadata": {
  "kernelspec": {
   "display_name": "Python 3 (ipykernel)",
   "language": "python",
   "name": "python3"
  },
  "language_info": {
   "codemirror_mode": {
    "name": "ipython",
    "version": 3
   },
   "file_extension": ".py",
   "mimetype": "text/x-python",
   "name": "python",
   "nbconvert_exporter": "python",
   "pygments_lexer": "ipython3",
   "version": "3.9.12"
  }
 },
 "nbformat": 4,
 "nbformat_minor": 5
}
