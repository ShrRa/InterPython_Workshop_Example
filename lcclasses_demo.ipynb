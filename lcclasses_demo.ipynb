{
 "cells": [
  {
   "cell_type": "code",
   "execution_count": null,
   "id": "4e805af5",
   "metadata": {},
   "outputs": [],
   "source": [
    "from lcanalyzer import lightcurve_classes\n",
    "from lcanalyzer.lightcurve_classes import LightCurve, Supernova"
   ]
  },
  {
   "cell_type": "code",
   "execution_count": null,
   "id": "5c4b046a",
   "metadata": {},
   "outputs": [],
   "source": [
    "print(LightCurve(\"Vega\"))"
   ]
  },
  {
   "cell_type": "code",
   "execution_count": null,
   "id": "ae2aad6c",
   "metadata": {},
   "outputs": [],
   "source": [
    "vega = LightCurve(\"Vega\")\n",
    "vega.add_observations([0,1,2], [1,2,3], [0.1, 0.1, 0.2])\n",
    "print(vega)"
   ]
  },
  {
   "cell_type": "code",
   "execution_count": null,
   "id": "e13b0a47",
   "metadata": {},
   "outputs": [],
   "source": [
    "sn2008D = Supernova(\"SN2008D\")"
   ]
  },
  {
   "cell_type": "code",
   "execution_count": null,
   "id": "bc59be5e",
   "metadata": {},
   "outputs": [],
   "source": [
    "print(sn2008D)"
   ]
  },
  {
   "cell_type": "code",
   "execution_count": null,
   "id": "96a6a05f",
   "metadata": {},
   "outputs": [],
   "source": [
    "sn = Supernova(\"SN2008D\", mjd=[0,1,2], magnitude=[1,2,3], \n",
    "               magnitude_errors=[2,3,4])"
   ]
  },
  {
   "cell_type": "code",
   "execution_count": null,
   "id": "fabc2d1c",
   "metadata": {},
   "outputs": [],
   "source": [
    "print(sn)"
   ]
  },
  {
   "cell_type": "code",
   "execution_count": null,
   "id": "557a2bd7",
   "metadata": {},
   "outputs": [],
   "source": [
    "sn.peak_mjd"
   ]
  },
  {
   "cell_type": "code",
   "execution_count": null,
   "id": "ce8f104b",
   "metadata": {},
   "outputs": [],
   "source": [
    "sn.set_peak(1.5, 2.5)\n",
    "sn.peak_mjd"
   ]
  },
  {
   "cell_type": "code",
   "execution_count": null,
   "id": "f8f7b318",
   "metadata": {},
   "outputs": [],
   "source": [
    "sn.set_sntype(\"Ic-BL\")"
   ]
  }
 ],
 "metadata": {
  "kernelspec": {
   "display_name": "Python 3 (ipykernel)",
   "language": "python",
   "name": "python3"
  },
  "language_info": {
   "codemirror_mode": {
    "name": "ipython",
    "version": 3
   },
   "file_extension": ".py",
   "mimetype": "text/x-python",
   "name": "python",
   "nbconvert_exporter": "python",
   "pygments_lexer": "ipython3",
   "version": "3.9.12"
  }
 },
 "nbformat": 4,
 "nbformat_minor": 5
}
